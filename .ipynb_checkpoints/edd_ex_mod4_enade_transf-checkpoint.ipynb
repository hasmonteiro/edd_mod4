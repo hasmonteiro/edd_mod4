{
 "cells": [
  {
   "cell_type": "markdown",
   "id": "45aa32bc-b5dc-4bc9-be28-ae41c5829b2b",
   "metadata": {},
   "source": [
    "# Enade data transformation\n",
    "Preliminary understanding of the data previously gathered for future transformations.\n",
    "Performing some preliminary exploratory evaluations"
   ]
  },
  {
   "cell_type": "code",
   "execution_count": 1,
   "id": "c597743a-a5a9-45b5-b7c7-a4b523e93838",
   "metadata": {},
   "outputs": [],
   "source": [
    "# Import the libraries\n",
    "import pandas as pd\n",
    "import numpy as np\n",
    "import os"
   ]
  },
  {
   "cell_type": "code",
   "execution_count": 2,
   "id": "267eea23-b9fe-46a0-916d-1ee3f9f4c3ef",
   "metadata": {},
   "outputs": [],
   "source": [
    "# Editing the csv file before reading it (changing decimal and sep to prevent bugs)\n",
    "text = open(\"./enade2019/3.DADOS/microdados_enade_2019.txt\", \"r\")\n",
    "text = ''.join([i for i in text]) \\\n",
    "    .replace(\",\", \".\") \\\n",
    "    .replace('; ',';')  \n",
    "x = open(\"./enade2019/3.DADOS/microdados_enade_2019_2.txt\",\"w\")\n",
    "x.writelines(text)\n",
    "x.close()"
   ]
  },
  {
   "cell_type": "code",
   "execution_count": 3,
   "id": "3b441fc2-a03d-48de-a45d-e4989b6a2c26",
   "metadata": {},
   "outputs": [],
   "source": [
    "# Reading with pandas\n",
    "enade = pd.read_csv(\"./enade2019/3.DADOS/microdados_enade_2019_2.txt\",\n",
    "                    sep = \";\",\n",
    "                    decimal = \".\",\n",
    "                    low_memory=False)"
   ]
  },
  {
   "cell_type": "code",
   "execution_count": 4,
   "id": "fc492b11-f625-4127-8860-6b651ef63f39",
   "metadata": {},
   "outputs": [
    {
     "data": {
      "text/html": [
       "<div>\n",
       "<style scoped>\n",
       "    .dataframe tbody tr th:only-of-type {\n",
       "        vertical-align: middle;\n",
       "    }\n",
       "\n",
       "    .dataframe tbody tr th {\n",
       "        vertical-align: top;\n",
       "    }\n",
       "\n",
       "    .dataframe thead th {\n",
       "        text-align: right;\n",
       "    }\n",
       "</style>\n",
       "<table border=\"1\" class=\"dataframe\">\n",
       "  <thead>\n",
       "    <tr style=\"text-align: right;\">\n",
       "      <th></th>\n",
       "      <th>NU_ANO</th>\n",
       "      <th>CO_IES</th>\n",
       "      <th>CO_CATEGAD</th>\n",
       "      <th>CO_ORGACAD</th>\n",
       "      <th>CO_GRUPO</th>\n",
       "      <th>CO_CURSO</th>\n",
       "      <th>CO_MODALIDADE</th>\n",
       "      <th>CO_MUNIC_CURSO</th>\n",
       "      <th>CO_UF_CURSO</th>\n",
       "      <th>CO_REGIAO_CURSO</th>\n",
       "      <th>...</th>\n",
       "      <th>QE_I59</th>\n",
       "      <th>QE_I60</th>\n",
       "      <th>QE_I61</th>\n",
       "      <th>QE_I62</th>\n",
       "      <th>QE_I63</th>\n",
       "      <th>QE_I64</th>\n",
       "      <th>QE_I65</th>\n",
       "      <th>QE_I66</th>\n",
       "      <th>QE_I67</th>\n",
       "      <th>QE_I68</th>\n",
       "    </tr>\n",
       "  </thead>\n",
       "  <tbody>\n",
       "    <tr>\n",
       "      <th>0</th>\n",
       "      <td>2019</td>\n",
       "      <td>1</td>\n",
       "      <td>10002</td>\n",
       "      <td>10028</td>\n",
       "      <td>5710</td>\n",
       "      <td>3</td>\n",
       "      <td>1</td>\n",
       "      <td>5103403</td>\n",
       "      <td>51</td>\n",
       "      <td>5</td>\n",
       "      <td>...</td>\n",
       "      <td>2.0</td>\n",
       "      <td>5.0</td>\n",
       "      <td>1.0</td>\n",
       "      <td>1.0</td>\n",
       "      <td>2.0</td>\n",
       "      <td>5.0</td>\n",
       "      <td>8.0</td>\n",
       "      <td>7.0</td>\n",
       "      <td>1.0</td>\n",
       "      <td>2.0</td>\n",
       "    </tr>\n",
       "    <tr>\n",
       "      <th>1</th>\n",
       "      <td>2019</td>\n",
       "      <td>1</td>\n",
       "      <td>10002</td>\n",
       "      <td>10028</td>\n",
       "      <td>5710</td>\n",
       "      <td>3</td>\n",
       "      <td>1</td>\n",
       "      <td>5103403</td>\n",
       "      <td>51</td>\n",
       "      <td>5</td>\n",
       "      <td>...</td>\n",
       "      <td>1.0</td>\n",
       "      <td>4.0</td>\n",
       "      <td>2.0</td>\n",
       "      <td>2.0</td>\n",
       "      <td>2.0</td>\n",
       "      <td>5.0</td>\n",
       "      <td>4.0</td>\n",
       "      <td>4.0</td>\n",
       "      <td>2.0</td>\n",
       "      <td>2.0</td>\n",
       "    </tr>\n",
       "    <tr>\n",
       "      <th>2</th>\n",
       "      <td>2019</td>\n",
       "      <td>1</td>\n",
       "      <td>10002</td>\n",
       "      <td>10028</td>\n",
       "      <td>5710</td>\n",
       "      <td>3</td>\n",
       "      <td>1</td>\n",
       "      <td>5103403</td>\n",
       "      <td>51</td>\n",
       "      <td>5</td>\n",
       "      <td>...</td>\n",
       "      <td>3.0</td>\n",
       "      <td>4.0</td>\n",
       "      <td>4.0</td>\n",
       "      <td>3.0</td>\n",
       "      <td>3.0</td>\n",
       "      <td>4.0</td>\n",
       "      <td>1.0</td>\n",
       "      <td>1.0</td>\n",
       "      <td>1.0</td>\n",
       "      <td>4.0</td>\n",
       "    </tr>\n",
       "    <tr>\n",
       "      <th>3</th>\n",
       "      <td>2019</td>\n",
       "      <td>1</td>\n",
       "      <td>10002</td>\n",
       "      <td>10028</td>\n",
       "      <td>5710</td>\n",
       "      <td>3</td>\n",
       "      <td>1</td>\n",
       "      <td>5103403</td>\n",
       "      <td>51</td>\n",
       "      <td>5</td>\n",
       "      <td>...</td>\n",
       "      <td>3.0</td>\n",
       "      <td>5.0</td>\n",
       "      <td>2.0</td>\n",
       "      <td>2.0</td>\n",
       "      <td>2.0</td>\n",
       "      <td>3.0</td>\n",
       "      <td>3.0</td>\n",
       "      <td>4.0</td>\n",
       "      <td>3.0</td>\n",
       "      <td>3.0</td>\n",
       "    </tr>\n",
       "    <tr>\n",
       "      <th>4</th>\n",
       "      <td>2019</td>\n",
       "      <td>1</td>\n",
       "      <td>10002</td>\n",
       "      <td>10028</td>\n",
       "      <td>5710</td>\n",
       "      <td>3</td>\n",
       "      <td>1</td>\n",
       "      <td>5103403</td>\n",
       "      <td>51</td>\n",
       "      <td>5</td>\n",
       "      <td>...</td>\n",
       "      <td>NaN</td>\n",
       "      <td>NaN</td>\n",
       "      <td>NaN</td>\n",
       "      <td>NaN</td>\n",
       "      <td>NaN</td>\n",
       "      <td>NaN</td>\n",
       "      <td>NaN</td>\n",
       "      <td>NaN</td>\n",
       "      <td>NaN</td>\n",
       "      <td>NaN</td>\n",
       "    </tr>\n",
       "  </tbody>\n",
       "</table>\n",
       "<p>5 rows × 137 columns</p>\n",
       "</div>"
      ],
      "text/plain": [
       "   NU_ANO  CO_IES  CO_CATEGAD  CO_ORGACAD  CO_GRUPO  CO_CURSO  CO_MODALIDADE  \\\n",
       "0    2019       1       10002       10028      5710         3              1   \n",
       "1    2019       1       10002       10028      5710         3              1   \n",
       "2    2019       1       10002       10028      5710         3              1   \n",
       "3    2019       1       10002       10028      5710         3              1   \n",
       "4    2019       1       10002       10028      5710         3              1   \n",
       "\n",
       "   CO_MUNIC_CURSO  CO_UF_CURSO  CO_REGIAO_CURSO  ...  QE_I59 QE_I60  QE_I61  \\\n",
       "0         5103403           51                5  ...     2.0    5.0     1.0   \n",
       "1         5103403           51                5  ...     1.0    4.0     2.0   \n",
       "2         5103403           51                5  ...     3.0    4.0     4.0   \n",
       "3         5103403           51                5  ...     3.0    5.0     2.0   \n",
       "4         5103403           51                5  ...     NaN    NaN     NaN   \n",
       "\n",
       "   QE_I62  QE_I63  QE_I64  QE_I65  QE_I66  QE_I67  QE_I68  \n",
       "0     1.0     2.0     5.0     8.0     7.0     1.0     2.0  \n",
       "1     2.0     2.0     5.0     4.0     4.0     2.0     2.0  \n",
       "2     3.0     3.0     4.0     1.0     1.0     1.0     4.0  \n",
       "3     2.0     2.0     3.0     3.0     4.0     3.0     3.0  \n",
       "4     NaN     NaN     NaN     NaN     NaN     NaN     NaN  \n",
       "\n",
       "[5 rows x 137 columns]"
      ]
     },
     "execution_count": 4,
     "metadata": {},
     "output_type": "execute_result"
    }
   ],
   "source": [
    "enade.head()"
   ]
  },
  {
   "cell_type": "code",
   "execution_count": 7,
   "id": "23c1eeaf-f21d-4310-8745-187079b491ef",
   "metadata": {},
   "outputs": [
    {
     "name": "stdout",
     "output_type": "stream",
     "text": [
      "<class 'pandas.core.frame.DataFrame'>\n",
      "RangeIndex: 433930 entries, 0 to 433929\n",
      "Columns: 137 entries, NU_ANO to QE_I68\n",
      "dtypes: float64(62), int64(33), object(42)\n",
      "memory usage: 453.6+ MB\n"
     ]
    },
    {
     "data": {
      "text/plain": [
       "(433930, 137)"
      ]
     },
     "execution_count": 7,
     "metadata": {},
     "output_type": "execute_result"
    }
   ],
   "source": [
    "# Verifying the schema\n",
    "enade.info()\n",
    "dict(enade.dtypes)\n",
    "enade.shape"
   ]
  },
  {
   "cell_type": "markdown",
   "id": "07e5687d-68f4-40d4-bfe4-e57e80f8a98b",
   "metadata": {
    "tags": []
   },
   "source": [
    "### What we gonna use?\n",
    "For a preliminary EDA we're gonna use the following features, mostrly the relation between NT_GER (which is the overall grade) and the other attributes.\n",
    "\n",
    "General attributes\n",
    "- CO_IES\n",
    "- CO_CATEGAD\n",
    "- CO_GRUPO\n",
    "- CO_MODALIDADE\n",
    "- CO_UF_CURSO\n",
    "- NU_IDADE\n",
    "- TP_SEXO\n",
    "- NT_GER\n",
    "- NT_FG\n",
    "- NT_CE\n",
    "\n",
    "Survey questions\n",
    "- 01: Estado Civil\n",
    "- 02: Cor ou Raça\n",
    "- 04: Escolaridade do pai\n",
    "- 05: Escolaridade da mãe\n",
    "- 08: Renda familar\n",
    "- 10: Situação do trabalho\n",
    "- 11: Situação de bolsa\n",
    "- 14: Intercambio\n",
    "- 15: Cotas\n",
    "- 23: Horas de estudo / semana\n",
    "- 25: Motivo escolha curso\n",
    "- 26: Motivo escolha IES"
   ]
  },
  {
   "cell_type": "code",
   "execution_count": 6,
   "id": "b6ecb3e0-e252-4e9d-aa8a-865e532eec6f",
   "metadata": {},
   "outputs": [
    {
     "data": {
      "text/plain": [
       "count    390135.000000\n",
       "mean         44.080390\n",
       "std          14.545807\n",
       "min           0.000000\n",
       "25%          33.200000\n",
       "50%          43.800000\n",
       "75%          54.800000\n",
       "max          93.000000\n",
       "Name: NT_GER, dtype: float64"
      ]
     },
     "execution_count": 6,
     "metadata": {},
     "output_type": "execute_result"
    }
   ],
   "source": [
    "# Checking NT_GER (overall grade)\n",
    "enade.NT_GER.describe()"
   ]
  },
  {
   "cell_type": "code",
   "execution_count": 8,
   "id": "b351c407-704e-469a-9b64-13eb2c3353c6",
   "metadata": {},
   "outputs": [
    {
     "data": {
      "text/plain": [
       "0.10092641670315489"
      ]
     },
     "execution_count": 8,
     "metadata": {},
     "output_type": "execute_result"
    }
   ],
   "source": [
    "# Checking nulls\n",
    "enade.NT_GER.isnull().sum() / enade.shape[0]"
   ]
  },
  {
   "cell_type": "code",
   "execution_count": 11,
   "id": "57d4c150-3a57-4ce8-83aa-db0bc9d96907",
   "metadata": {},
   "outputs": [
    {
     "data": {
      "text/plain": [
       "count    30769.000000\n",
       "mean        44.604609\n",
       "std         14.489081\n",
       "min          0.000000\n",
       "25%         33.900000\n",
       "50%         44.500000\n",
       "75%         55.300000\n",
       "max         91.600000\n",
       "Name: NT_GER, dtype: float64"
      ]
     },
     "execution_count": 11,
     "metadata": {},
     "output_type": "execute_result"
    }
   ],
   "source": [
    "# Checking overall grades in central-west region of BR (code 5)\n",
    "enade.loc[\n",
    "    enade.CO_REGIAO_CURSO == 5\n",
    "].NT_GER.describe()"
   ]
  },
  {
   "cell_type": "code",
   "execution_count": 18,
   "id": "6570804a-53a5-442c-861a-ddaa7a4b20ca",
   "metadata": {},
   "outputs": [
    {
     "data": {
      "text/plain": [
       "count    30739.000000\n",
       "mean        44.648141\n",
       "std         14.428952\n",
       "min          0.900000\n",
       "25%         33.900000\n",
       "50%         44.500000\n",
       "75%         55.300000\n",
       "max         91.600000\n",
       "Name: NT_GER, dtype: float64"
      ]
     },
     "execution_count": 18,
     "metadata": {},
     "output_type": "execute_result"
    }
   ],
   "source": [
    "# Now filtering grades greater than zero\n",
    "enade.loc[\n",
    "    (enade.CO_REGIAO_CURSO == 5) &\n",
    "    (enade.NT_GER > 0)\n",
    "].NT_GER.describe()"
   ]
  },
  {
   "cell_type": "code",
   "execution_count": 19,
   "id": "f6fec0ee-4f06-48e5-97c5-1578018c10dd",
   "metadata": {},
   "outputs": [
    {
     "data": {
      "text/plain": [
       "F    0.537596\n",
       "M    0.462404\n",
       "Name: TP_SEXO, dtype: float64"
      ]
     },
     "execution_count": 19,
     "metadata": {},
     "output_type": "execute_result"
    }
   ],
   "source": [
    "# Cross table checking percentage of men and women\n",
    "enade.TP_SEXO.value_counts() / enade.shape[0]"
   ]
  },
  {
   "cell_type": "code",
   "execution_count": 20,
   "id": "133dda81-4b71-4b9c-a98d-1424cb32e266",
   "metadata": {},
   "outputs": [
    {
     "data": {
      "text/html": [
       "<div>\n",
       "<style scoped>\n",
       "    .dataframe tbody tr th:only-of-type {\n",
       "        vertical-align: middle;\n",
       "    }\n",
       "\n",
       "    .dataframe tbody tr th {\n",
       "        vertical-align: top;\n",
       "    }\n",
       "\n",
       "    .dataframe thead th {\n",
       "        text-align: right;\n",
       "    }\n",
       "</style>\n",
       "<table border=\"1\" class=\"dataframe\">\n",
       "  <thead>\n",
       "    <tr style=\"text-align: right;\">\n",
       "      <th></th>\n",
       "      <th>NT_GER</th>\n",
       "      <th>NT_FG</th>\n",
       "      <th>NT_CE</th>\n",
       "    </tr>\n",
       "  </thead>\n",
       "  <tbody>\n",
       "    <tr>\n",
       "      <th>count</th>\n",
       "      <td>390135.000000</td>\n",
       "      <td>390135.000000</td>\n",
       "      <td>390135.000000</td>\n",
       "    </tr>\n",
       "    <tr>\n",
       "      <th>mean</th>\n",
       "      <td>44.080390</td>\n",
       "      <td>39.838931</td>\n",
       "      <td>45.477586</td>\n",
       "    </tr>\n",
       "    <tr>\n",
       "      <th>std</th>\n",
       "      <td>14.545807</td>\n",
       "      <td>16.241311</td>\n",
       "      <td>16.646806</td>\n",
       "    </tr>\n",
       "    <tr>\n",
       "      <th>min</th>\n",
       "      <td>0.000000</td>\n",
       "      <td>0.000000</td>\n",
       "      <td>0.000000</td>\n",
       "    </tr>\n",
       "    <tr>\n",
       "      <th>25%</th>\n",
       "      <td>33.200000</td>\n",
       "      <td>28.500000</td>\n",
       "      <td>32.900000</td>\n",
       "    </tr>\n",
       "    <tr>\n",
       "      <th>50%</th>\n",
       "      <td>43.800000</td>\n",
       "      <td>39.300000</td>\n",
       "      <td>45.200000</td>\n",
       "    </tr>\n",
       "    <tr>\n",
       "      <th>75%</th>\n",
       "      <td>54.800000</td>\n",
       "      <td>51.300000</td>\n",
       "      <td>57.800000</td>\n",
       "    </tr>\n",
       "    <tr>\n",
       "      <th>max</th>\n",
       "      <td>93.000000</td>\n",
       "      <td>97.800000</td>\n",
       "      <td>100.000000</td>\n",
       "    </tr>\n",
       "  </tbody>\n",
       "</table>\n",
       "</div>"
      ],
      "text/plain": [
       "              NT_GER          NT_FG          NT_CE\n",
       "count  390135.000000  390135.000000  390135.000000\n",
       "mean       44.080390      39.838931      45.477586\n",
       "std        14.545807      16.241311      16.646806\n",
       "min         0.000000       0.000000       0.000000\n",
       "25%        33.200000      28.500000      32.900000\n",
       "50%        43.800000      39.300000      45.200000\n",
       "75%        54.800000      51.300000      57.800000\n",
       "max        93.000000      97.800000     100.000000"
      ]
     },
     "execution_count": 20,
     "metadata": {},
     "output_type": "execute_result"
    }
   ],
   "source": [
    "# Comparing regions by mean grades\n",
    "enade[[\"NT_GER\", \"NT_FG\", \"NT_CE\"]].describe()"
   ]
  },
  {
   "cell_type": "code",
   "execution_count": 21,
   "id": "e7827a3c-fe03-4e44-9066-17c31c9b50d1",
   "metadata": {},
   "outputs": [
    {
     "data": {
      "text/html": [
       "<div>\n",
       "<style scoped>\n",
       "    .dataframe tbody tr th:only-of-type {\n",
       "        vertical-align: middle;\n",
       "    }\n",
       "\n",
       "    .dataframe tbody tr th {\n",
       "        vertical-align: top;\n",
       "    }\n",
       "\n",
       "    .dataframe thead th {\n",
       "        text-align: right;\n",
       "    }\n",
       "</style>\n",
       "<table border=\"1\" class=\"dataframe\">\n",
       "  <thead>\n",
       "    <tr style=\"text-align: right;\">\n",
       "      <th></th>\n",
       "      <th>NT_GER</th>\n",
       "      <th>NT_FG</th>\n",
       "      <th>NT_CE</th>\n",
       "    </tr>\n",
       "    <tr>\n",
       "      <th>CO_REGIAO_CURSO</th>\n",
       "      <th></th>\n",
       "      <th></th>\n",
       "      <th></th>\n",
       "    </tr>\n",
       "  </thead>\n",
       "  <tbody>\n",
       "    <tr>\n",
       "      <th>1</th>\n",
       "      <td>40.282753</td>\n",
       "      <td>37.119037</td>\n",
       "      <td>41.320522</td>\n",
       "    </tr>\n",
       "    <tr>\n",
       "      <th>2</th>\n",
       "      <td>43.788555</td>\n",
       "      <td>40.057649</td>\n",
       "      <td>45.015455</td>\n",
       "    </tr>\n",
       "    <tr>\n",
       "      <th>3</th>\n",
       "      <td>44.016319</td>\n",
       "      <td>40.144793</td>\n",
       "      <td>45.290297</td>\n",
       "    </tr>\n",
       "    <tr>\n",
       "      <th>4</th>\n",
       "      <td>45.767208</td>\n",
       "      <td>40.087748</td>\n",
       "      <td>47.643763</td>\n",
       "    </tr>\n",
       "    <tr>\n",
       "      <th>5</th>\n",
       "      <td>44.604609</td>\n",
       "      <td>39.180022</td>\n",
       "      <td>46.396032</td>\n",
       "    </tr>\n",
       "  </tbody>\n",
       "</table>\n",
       "</div>"
      ],
      "text/plain": [
       "                    NT_GER      NT_FG      NT_CE\n",
       "CO_REGIAO_CURSO                                 \n",
       "1                40.282753  37.119037  41.320522\n",
       "2                43.788555  40.057649  45.015455\n",
       "3                44.016319  40.144793  45.290297\n",
       "4                45.767208  40.087748  47.643763\n",
       "5                44.604609  39.180022  46.396032"
      ]
     },
     "execution_count": 21,
     "metadata": {},
     "output_type": "execute_result"
    }
   ],
   "source": [
    "enade.groupby(\"CO_REGIAO_CURSO\").agg({\n",
    "    \"NT_GER\": \"mean\",\n",
    "    \"NT_FG\": \"mean\",\n",
    "    \"NT_CE\": \"mean\"\n",
    "})"
   ]
  },
  {
   "cell_type": "markdown",
   "id": "0900197f-850f-40a1-89d4-9d34649e317b",
   "metadata": {},
   "source": [
    "### Transforming some attributes\n",
    "Some variables will be directly overwritten (even though this is not a good practice in general)"
   ]
  },
  {
   "cell_type": "code",
   "execution_count": 22,
   "id": "9a1bd653-aa5a-40fa-a7ce-689b48c8a9d9",
   "metadata": {},
   "outputs": [],
   "source": [
    "# Changing faculty category; creating nem column\n",
    "enade[\"DESC_PUBLICA\"] = \"\""
   ]
  },
  {
   "cell_type": "code",
   "execution_count": 23,
   "id": "8abadbe0-86d6-4b4a-aacf-3c50674d3c41",
   "metadata": {},
   "outputs": [],
   "source": [
    "# Setting which IES is private\n",
    "enade.loc[\n",
    "    enade.CO_CATEGAD.isin([118, 120, 121, 10005, 10007, 10008, 10009, 17634]),\n",
    "    \"DESC_PUBLICA\"\n",
    "] = \"Privado\""
   ]
  },
  {
   "cell_type": "code",
   "execution_count": 24,
   "id": "ade0f9d3-ecc3-4ebc-ba82-7febb55e3c88",
   "metadata": {},
   "outputs": [],
   "source": [
    "# Setting which IES is pulic\n",
    "enade.loc[\n",
    "    enade.CO_CATEGAD.isin([93, 115, 116, 10001, 10002, 10003]),\n",
    "    \"DESC_PUBLICA\"\n",
    "] = \"Publica\""
   ]
  },
  {
   "cell_type": "code",
   "execution_count": 27,
   "id": "d57c65bc-a2d8-4907-aa94-8a745b5eb637",
   "metadata": {},
   "outputs": [
    {
     "data": {
      "text/plain": [
       "Privado    0.760597\n",
       "Publica    0.232690\n",
       "           0.006713\n",
       "Name: DESC_PUBLICA, dtype: float64"
      ]
     },
     "execution_count": 27,
     "metadata": {},
     "output_type": "execute_result"
    }
   ],
   "source": [
    "enade.DESC_PUBLICA.value_counts() / enade.shape[0]"
   ]
  },
  {
   "cell_type": "code",
   "execution_count": 29,
   "id": "79f7f85f-c0be-4396-8468-4ed55976d03f",
   "metadata": {},
   "outputs": [
    {
     "data": {
      "text/plain": [
       "Presencial    410542\n",
       "EaD            23388\n",
       "Name: CO_MODALIDADE, dtype: int64"
      ]
     },
     "execution_count": 29,
     "metadata": {},
     "output_type": "execute_result"
    }
   ],
   "source": [
    "# Transforming training type (modalidade)\n",
    "enade[\"CO_MODALIDADE\"] = enade.CO_MODALIDADE.replace({\n",
    "    0: \"EaD\",\n",
    "    1: \"Presencial\" \n",
    "})\n",
    "enade.CO_MODALIDADE.value_counts()"
   ]
  },
  {
   "cell_type": "code",
   "execution_count": 32,
   "id": "faad582b-9e1e-457d-9db4-4eb3208bfcd2",
   "metadata": {},
   "outputs": [],
   "source": [
    "# Tranforming region\n",
    "enade[\"CO_REGIAO_CURSO\"] = enade.CO_REGIAO_CURSO.replace({\n",
    "    1: \"Norte\",\n",
    "    2: \"Nordeste\",\n",
    "    3: \"Sudeste\",\n",
    "    4: \"Sul\",\n",
    "    5: \"Centro-Oeste\"\n",
    "})"
   ]
  },
  {
   "cell_type": "code",
   "execution_count": 33,
   "id": "d322dcec-190c-4948-b551-4d25d2cb7c69",
   "metadata": {},
   "outputs": [
    {
     "data": {
      "text/plain": [
       "Branca      220386\n",
       "Parda       135770\n",
       "Preta        32869\n",
       "Amarela      10093\n",
       "Indigena      1300\n",
       "Name: DESC_COR, dtype: int64"
      ]
     },
     "execution_count": 33,
     "metadata": {},
     "output_type": "execute_result"
    }
   ],
   "source": [
    "# Transforming skincolor\n",
    "enade[\"DESC_COR\"] = enade.QE_I02.replace({\n",
    "    \"A\": \"Branca\",\n",
    "    \"B\": \"Preta\",\n",
    "    \"C\": \"Amarela\",\n",
    "    \"D\": \"Parda\",\n",
    "    \"E\": \"Indigena\",\n",
    "    \"F\": pd.NA,\n",
    "    \" \": pd.NA\n",
    "})\n",
    "enade.DESC_COR.value_counts()"
   ]
  },
  {
   "cell_type": "markdown",
   "id": "6e28eb07-a20b-4ed4-8958-3ba2986c4896",
   "metadata": {},
   "source": [
    "### Some questions"
   ]
  },
  {
   "cell_type": "markdown",
   "id": "db4d6272-b170-4992-a392-526d77c2750a",
   "metadata": {},
   "source": [
    "1. What is the mean grade from the northeast students?"
   ]
  },
  {
   "cell_type": "code",
   "execution_count": 36,
   "id": "31ea44e5-6e3e-43f7-b79f-6af84bbe17e4",
   "metadata": {},
   "outputs": [
    {
     "data": {
      "text/plain": [
       "43.78855492862657"
      ]
     },
     "execution_count": 36,
     "metadata": {},
     "output_type": "execute_result"
    }
   ],
   "source": [
    "enade.loc[\n",
    "    enade.CO_REGIAO_CURSO == \"Nordeste\"    \n",
    "].NT_GER.mean()"
   ]
  },
  {
   "cell_type": "markdown",
   "id": "5348fae4-57d7-40f1-bc62-799710140ec3",
   "metadata": {},
   "source": [
    "2. What is the mean specific grade of the Electrical Engineering students from RS?"
   ]
  },
  {
   "cell_type": "code",
   "execution_count": 37,
   "id": "ec752bd2-3dde-4f8d-b987-9da9732d45f7",
   "metadata": {},
   "outputs": [
    {
     "data": {
      "text/plain": [
       "34.79692671394829"
      ]
     },
     "execution_count": 37,
     "metadata": {},
     "output_type": "execute_result"
    }
   ],
   "source": [
    "enade.loc[\n",
    "    (enade.CO_UF_CURSO == 43) &\n",
    "    (enade.CO_GRUPO == 5806)\n",
    "].NT_CE.mean()"
   ]
  },
  {
   "cell_type": "markdown",
   "id": "34c1508e-a5c4-410b-8df1-8852c783e800",
   "metadata": {},
   "source": [
    "3. What is the mean general formation grade of female brown students of classroom Industrial Engineerig courses, from MG?\n"
   ]
  },
  {
   "cell_type": "code",
   "execution_count": 39,
   "id": "ee6c1776-b7f9-4e3d-9561-3296561f3440",
   "metadata": {},
   "outputs": [
    {
     "data": {
      "text/plain": [
       "40.19142394822005"
      ]
     },
     "execution_count": 39,
     "metadata": {},
     "output_type": "execute_result"
    }
   ],
   "source": [
    "enade.loc[\n",
    "    (enade.CO_UF_CURSO == 31) &\n",
    "    (enade.DESC_COR == \"Parda\") &\n",
    "    (enade.CO_MODALIDADE == \"Presencial\") &\n",
    "    (enade.CO_GRUPO == 6208) &\n",
    "    (enade.TP_SEXO == \"F\"),\n",
    "    \"NT_FG\"\n",
    "].mean()"
   ]
  },
  {
   "cell_type": "markdown",
   "id": "cd922d9a-28f2-4bca-8498-3d8d70cf94f7",
   "metadata": {},
   "source": [
    "4. And what about the other states?"
   ]
  },
  {
   "cell_type": "code",
   "execution_count": 75,
   "id": "34f365d0-efdb-4f7f-b8b7-07bdf6c85834",
   "metadata": {},
   "outputs": [
    {
     "name": "stdout",
     "output_type": "stream",
     "text": [
      "1 nan\n",
      "2 nan\n",
      "3 nan\n",
      "4 nan\n",
      "5 nan\n",
      "6 nan\n",
      "7 nan\n",
      "8 nan\n",
      "9 nan\n",
      "10 nan\n",
      "11 42.69000000000001\n",
      "12 nan\n",
      "13 32.611494252873555\n",
      "14 nan\n",
      "15 29.094594594594593\n",
      "16 32.6\n",
      "17 34.32\n",
      "18 nan\n",
      "19 nan\n",
      "20 nan\n",
      "21 32.52299999999999\n",
      "22 40.05454545454546\n",
      "23 39.16283185840707\n",
      "24 44.33529411764705\n",
      "25 42.49722222222221\n",
      "26 38.93969465648854\n",
      "27 36.72307692307693\n",
      "28 37.107272727272715\n",
      "29 42.811467889908265\n",
      "30 nan\n",
      "31 40.19142394822005\n",
      "32 45.32876712328767\n",
      "33 39.24093264248709\n",
      "34 nan\n",
      "35 38.806582278481024\n",
      "36 nan\n",
      "37 nan\n",
      "38 nan\n",
      "39 nan\n",
      "40 nan\n",
      "41 44.84339622641509\n",
      "42 38.319999999999986\n",
      "43 45.60526315789474\n",
      "44 nan\n",
      "45 nan\n",
      "46 nan\n",
      "47 nan\n",
      "48 nan\n",
      "49 nan\n",
      "50 35.31538461538462\n",
      "51 33.03589743589743\n",
      "52 38.70821917808221\n",
      "53 44.0875\n"
     ]
    }
   ],
   "source": [
    "grades = []\n",
    "for i in range(1, enade.CO_UF_CURSO.max() + 1):\n",
    "    grade = enade.loc[\n",
    "        (enade.CO_UF_CURSO == i) &\n",
    "        (enade.DESC_COR == \"Parda\") &\n",
    "        (enade.CO_MODALIDADE == \"Presencial\") &\n",
    "        (enade.CO_GRUPO == 6208) &\n",
    "        (enade.TP_SEXO == \"F\"),\n",
    "        \"NT_FG\"\n",
    "    ].mean()\n",
    "    print(i, grade)\n",
    "    grades.append(grade)"
   ]
  },
  {
   "cell_type": "code",
   "execution_count": 83,
   "id": "5922b57d-3f88-486c-8808-48186a8d5dcc",
   "metadata": {},
   "outputs": [
    {
     "name": "stdout",
     "output_type": "stream",
     "text": [
      "0 0 0\n"
     ]
    }
   ],
   "source": [
    "# Checking those NAs\n",
    "c1 = enade.loc[\n",
    "    (enade.CO_UF_CURSO == 1) &\n",
    "    (enade.DESC_COR == \"Parda\")\n",
    "].shape[0]\n",
    "\n",
    "c2 = enade.loc[\n",
    "    (enade.CO_UF_CURSO == 30) &\n",
    "    (enade.DESC_COR == \"Parda\")\n",
    "].shape[0]\n",
    "\n",
    "c3 = enade.loc[\n",
    "    (enade.CO_UF_CURSO == 40) &\n",
    "    (enade.DESC_COR == \"Parda\")\n",
    "].shape[0]\n",
    "\n",
    "print(c1, c2, c3)\n",
    "\n",
    "# It seems that there's no declared brown people in those UF."
   ]
  }
 ],
 "metadata": {
  "kernelspec": {
   "display_name": "Python 3 (ipykernel)",
   "language": "python",
   "name": "python3"
  },
  "language_info": {
   "codemirror_mode": {
    "name": "ipython",
    "version": 3
   },
   "file_extension": ".py",
   "mimetype": "text/x-python",
   "name": "python",
   "nbconvert_exporter": "python",
   "pygments_lexer": "ipython3",
   "version": "3.9.5"
  }
 },
 "nbformat": 4,
 "nbformat_minor": 5
}
