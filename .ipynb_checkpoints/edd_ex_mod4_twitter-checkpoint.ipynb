{
 "cells": [
  {
   "cell_type": "code",
   "execution_count": 1,
   "id": "289e3596-1eb4-4388-ac48-de4f8f257c36",
   "metadata": {},
   "outputs": [],
   "source": [
    "# Libraries\n",
    "import json\n",
    "import pandas as pd\n",
    "from tweepy import OAuthHandler, Stream, StreamListener\n",
    "from datetime import datetime"
   ]
  },
  {
   "cell_type": "code",
   "execution_count": 2,
   "id": "f9cf90e2-4b4e-45a2-99b5-c37d9990a753",
   "metadata": {},
   "outputs": [
    {
     "name": "stdout",
     "output_type": "stream",
     "text": [
      "<class 'pandas.core.frame.DataFrame'>\n",
      "RangeIndex: 1 entries, 0 to 0\n",
      "Data columns (total 5 columns):\n",
      " #   Column               Non-Null Count  Dtype \n",
      "---  ------               --------------  ----- \n",
      " 0   API_KEY              1 non-null      object\n",
      " 1   API_SECRET           1 non-null      object\n",
      " 2   BEARER_TOKEN         1 non-null      object\n",
      " 3   ACCESS_TOKEN         1 non-null      object\n",
      " 4   ACCESS_TOKEN_SECRET  1 non-null      object\n",
      "dtypes: object(5)\n",
      "memory usage: 168.0+ bytes\n"
     ]
    }
   ],
   "source": [
    "# Credentials\n",
    "credentials = pd.read_csv(\"./credentials.log\",\n",
    "                          sep = \";\")\n",
    "credentials.info()"
   ]
  },
  {
   "cell_type": "code",
   "execution_count": 3,
   "id": "2f73be7b-fe84-4e95-a086-950ce488ceea",
   "metadata": {},
   "outputs": [],
   "source": [
    "consumer_key = credentials.API_KEY[0]\n",
    "consumer_token = credentials.API_SECRET[0]\n",
    "access_token = credentials.ACCESS_TOKEN[0]\n",
    "access_token_secret = credentials.ACCESS_TOKEN_SECRET[0]"
   ]
  },
  {
   "cell_type": "code",
   "execution_count": 4,
   "id": "ba41590d-9350-414e-98eb-563952cf473d",
   "metadata": {},
   "outputs": [],
   "source": [
    "# Defining an output file for the tweets\n",
    "today = datetime.now().strftime(\"%Y-%m-%d-%H-%M-%S\")\n",
    "out = open(f\"collected_tweets_{today}.txt\", \"w\")"
   ]
  },
  {
   "cell_type": "code",
   "execution_count": 5,
   "id": "a3c1508b-67a6-4fb7-92c0-1daeefa111b1",
   "metadata": {},
   "outputs": [],
   "source": [
    "# New listener class for the connection extending from the tweepy streamer\n",
    "class MyListener(StreamListener):\n",
    "    \n",
    "    def on_data(self, data):\n",
    "        print(data)\n",
    "        item_string = json.dumps(data)\n",
    "        out.write(item_string + \"\\n\")\n",
    "        return True\n",
    "    \n",
    "    def on_error(self, status):\n",
    "        print(status)   "
   ]
  },
  {
   "cell_type": "code",
   "execution_count": null,
   "id": "f1d7124d-dfda-40ec-a74f-86854ee18e22",
   "metadata": {},
   "outputs": [
    {
     "name": "stdout",
     "output_type": "stream",
     "text": [
      "401\n",
      "401\n",
      "401\n",
      "401\n",
      "401\n",
      "401\n"
     ]
    }
   ],
   "source": [
    "query = [\"covid\"]\n",
    "\n",
    "l = MyListener()\n",
    "auth = OAuthHandler(consumer_key, consumer_token)\n",
    "auth.set_access_token(access_token, access_token_secret)\n",
    "\n",
    "stream = Stream(auth, l)\n",
    "stream.filter(track=query)"
   ]
  },
  {
   "cell_type": "markdown",
   "id": "bd786fd0-cb07-4e7c-b8d3-8b698a6214f8",
   "metadata": {},
   "source": [
    "## Play!"
   ]
  },
  {
   "cell_type": "code",
   "execution_count": null,
   "id": "104ffe49-c6c1-49e2-85ea-085770d4e355",
   "metadata": {},
   "outputs": [],
   "source": [
    "!python get_tweets.py"
   ]
  },
  {
   "cell_type": "code",
   "execution_count": null,
   "id": "36128c0c-fc35-48c8-8b44-73645225c296",
   "metadata": {},
   "outputs": [],
   "source": []
  }
 ],
 "metadata": {
  "kernelspec": {
   "display_name": "Python 3 (ipykernel)",
   "language": "python",
   "name": "python3"
  },
  "language_info": {
   "codemirror_mode": {
    "name": "ipython",
    "version": 3
   },
   "file_extension": ".py",
   "mimetype": "text/x-python",
   "name": "python",
   "nbconvert_exporter": "python",
   "pygments_lexer": "ipython3",
   "version": "3.9.5"
  }
 },
 "nbformat": 4,
 "nbformat_minor": 5
}
