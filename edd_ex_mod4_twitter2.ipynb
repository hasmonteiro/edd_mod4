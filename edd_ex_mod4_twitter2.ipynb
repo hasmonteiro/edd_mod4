{
 "cells": [
  {
   "cell_type": "markdown",
   "id": "c668c27c-b48b-4f61-b51a-f84325f36283",
   "metadata": {},
   "source": [
    "# Twitter streaming\n",
    "Here a script is used to gather tweets. The application, although simple, is has the fundamental steps needed to implement a tweeter crawler.\n",
    "The code he has a stoptime option (in seconds) just to get the testing more rapid and easy"
   ]
  },
  {
   "cell_type": "code",
   "execution_count": 2,
   "id": "7a5966a2-1063-48e2-8fe1-fde4b8b0d415",
   "metadata": {},
   "outputs": [
    {
     "name": "stdout",
     "output_type": "stream",
     "text": [
      "Time out!\n"
     ]
    }
   ],
   "source": [
    "# Running the get_tweets script with a preset timeout\n",
    "!python get_tweets.py 10 \"#covid\""
   ]
  }
 ],
 "metadata": {
  "kernelspec": {
   "display_name": "Python 3 (ipykernel)",
   "language": "python",
   "name": "python3"
  },
  "language_info": {
   "codemirror_mode": {
    "name": "ipython",
    "version": 3
   },
   "file_extension": ".py",
   "mimetype": "text/x-python",
   "name": "python",
   "nbconvert_exporter": "python",
   "pygments_lexer": "ipython3",
   "version": "3.9.5"
  }
 },
 "nbformat": 4,
 "nbformat_minor": 5
}
