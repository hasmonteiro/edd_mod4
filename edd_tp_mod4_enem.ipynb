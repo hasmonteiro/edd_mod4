{
 "cells": [
  {
   "cell_type": "markdown",
   "id": "1ea2c897-a549-40f8-b1a6-dc1b1e7f3f9b",
   "metadata": {},
   "source": [
    "# ENEM data extraction\n",
    "\n",
    "The National Secondary Education Examination (Enem) was first implemented in 1998, with the objective of evaluating the academic performance of students at the end of basic education. In 2009, the exam improved its methodology and started to be used as a mechanism for accessing higher education. \n",
    "\n",
    "Enem grades can be used to access the Unified Selection System (Sisu) and the University for All Program (ProUni). They are also accepted in more than 50 Portuguese higher education institutions. In addition, Enem participants can apply for student financing in government programs such as the Student Financing Fund (Fies). The Enem results also enable the development of studies and educational indicators.\n",
    "\n",
    "Anyone who has already completed high school or is completing the stage can take the Enem for access to higher education."
   ]
  },
  {
   "cell_type": "code",
   "execution_count": 4,
   "id": "42d4595d-a30f-49c9-bed2-a5af872aff47",
   "metadata": {},
   "outputs": [],
   "source": [
    "# Importing the libraries\n",
    "import dask.dataframe as dd\n",
    "import pandas as pd\n",
    "import numpy as np\n",
    "import zipfile\n",
    "import requests\n",
    "from io import BytesIO\n",
    "import os"
   ]
  },
  {
   "cell_type": "code",
   "execution_count": 2,
   "id": "ae460157-24be-482c-8088-1f8d31c0e6bd",
   "metadata": {},
   "outputs": [],
   "source": [
    "# Creating the folder to extract the data locally\n",
    "os.makedirs(\"./enem2019\", exist_ok=True)"
   ]
  },
  {
   "cell_type": "code",
   "execution_count": 4,
   "id": "3254ce96-7355-475c-b33a-cc5137319a87",
   "metadata": {},
   "outputs": [
    {
     "name": "stdout",
     "output_type": "stream",
     "text": [
      "Wall time: 4min 41s\n"
     ]
    }
   ],
   "source": [
    "%%time\n",
    "# Downloading the content from the url (using stream so we dont lose the connection)\n",
    "url = \"https://download.inep.gov.br/microdados/microdados_enem_2019.zip\"\n",
    "\n",
    "filebytes = BytesIO(requests.get(url, stream=True).content)"
   ]
  },
  {
   "cell_type": "code",
   "execution_count": 5,
   "id": "e9b89b65-3203-4e49-af87-f757f991c097",
   "metadata": {},
   "outputs": [
    {
     "name": "stdout",
     "output_type": "stream",
     "text": [
      "Wall time: 38.6 s\n"
     ]
    }
   ],
   "source": [
    "%%time\n",
    "# Extracting the zip\n",
    "myzip = zipfile.ZipFile(filebytes)\n",
    "myzip.extractall(\"./enem2019\")"
   ]
  },
  {
   "cell_type": "code",
   "execution_count": 40,
   "id": "1a7c3147-eef8-4853-8d61-d7da4ff9fd00",
   "metadata": {},
   "outputs": [],
   "source": [
    "# Reading file\n",
    "enem = dd.read_csv(\"./enem2019/DADOS/MICRODADOS_ENEM_2019.csv\", \n",
    "                   sep=\";\", \n",
    "                   decimal=\",\", \n",
    "                   encoding=\"latin1\",\n",
    "                   dtype={'CO_MUNICIPIO_NASCIMENTO': 'float64',\n",
    "                   'CO_UF_NASCIMENTO': 'float64',\n",
    "                   'NO_MUNICIPIO_ESC': 'object',\n",
    "                   'SG_UF_ESC': 'object',\n",
    "                   'NU_IDADE': 'float64'})"
   ]
  },
  {
   "cell_type": "code",
   "execution_count": 41,
   "id": "cdf95f4b-8f29-40a9-93d5-36ee80ef66e2",
   "metadata": {},
   "outputs": [
    {
     "data": {
      "text/html": [
       "<div>\n",
       "<style scoped>\n",
       "    .dataframe tbody tr th:only-of-type {\n",
       "        vertical-align: middle;\n",
       "    }\n",
       "\n",
       "    .dataframe tbody tr th {\n",
       "        vertical-align: top;\n",
       "    }\n",
       "\n",
       "    .dataframe thead th {\n",
       "        text-align: right;\n",
       "    }\n",
       "</style>\n",
       "<table border=\"1\" class=\"dataframe\">\n",
       "  <thead>\n",
       "    <tr style=\"text-align: right;\">\n",
       "      <th></th>\n",
       "      <th>NU_INSCRICAO</th>\n",
       "      <th>NU_ANO</th>\n",
       "      <th>CO_MUNICIPIO_RESIDENCIA</th>\n",
       "      <th>NO_MUNICIPIO_RESIDENCIA</th>\n",
       "      <th>CO_UF_RESIDENCIA</th>\n",
       "      <th>SG_UF_RESIDENCIA</th>\n",
       "      <th>NU_IDADE</th>\n",
       "      <th>TP_SEXO</th>\n",
       "      <th>TP_ESTADO_CIVIL</th>\n",
       "      <th>TP_COR_RACA</th>\n",
       "      <th>...</th>\n",
       "      <th>Q016</th>\n",
       "      <th>Q017</th>\n",
       "      <th>Q018</th>\n",
       "      <th>Q019</th>\n",
       "      <th>Q020</th>\n",
       "      <th>Q021</th>\n",
       "      <th>Q022</th>\n",
       "      <th>Q023</th>\n",
       "      <th>Q024</th>\n",
       "      <th>Q025</th>\n",
       "    </tr>\n",
       "  </thead>\n",
       "  <tbody>\n",
       "    <tr>\n",
       "      <th>0</th>\n",
       "      <td>190001595656</td>\n",
       "      <td>2019</td>\n",
       "      <td>3552205</td>\n",
       "      <td>Sorocaba</td>\n",
       "      <td>35</td>\n",
       "      <td>SP</td>\n",
       "      <td>36.0</td>\n",
       "      <td>M</td>\n",
       "      <td>1</td>\n",
       "      <td>3</td>\n",
       "      <td>...</td>\n",
       "      <td>A</td>\n",
       "      <td>A</td>\n",
       "      <td>A</td>\n",
       "      <td>A</td>\n",
       "      <td>A</td>\n",
       "      <td>A</td>\n",
       "      <td>C</td>\n",
       "      <td>A</td>\n",
       "      <td>C</td>\n",
       "      <td>B</td>\n",
       "    </tr>\n",
       "    <tr>\n",
       "      <th>1</th>\n",
       "      <td>190001421546</td>\n",
       "      <td>2019</td>\n",
       "      <td>2910800</td>\n",
       "      <td>Feira de Santana</td>\n",
       "      <td>29</td>\n",
       "      <td>BA</td>\n",
       "      <td>23.0</td>\n",
       "      <td>M</td>\n",
       "      <td>1</td>\n",
       "      <td>1</td>\n",
       "      <td>...</td>\n",
       "      <td>A</td>\n",
       "      <td>A</td>\n",
       "      <td>A</td>\n",
       "      <td>B</td>\n",
       "      <td>A</td>\n",
       "      <td>A</td>\n",
       "      <td>E</td>\n",
       "      <td>A</td>\n",
       "      <td>A</td>\n",
       "      <td>B</td>\n",
       "    </tr>\n",
       "    <tr>\n",
       "      <th>2</th>\n",
       "      <td>190001133210</td>\n",
       "      <td>2019</td>\n",
       "      <td>2304400</td>\n",
       "      <td>Fortaleza</td>\n",
       "      <td>23</td>\n",
       "      <td>CE</td>\n",
       "      <td>39.0</td>\n",
       "      <td>F</td>\n",
       "      <td>1</td>\n",
       "      <td>3</td>\n",
       "      <td>...</td>\n",
       "      <td>A</td>\n",
       "      <td>A</td>\n",
       "      <td>A</td>\n",
       "      <td>B</td>\n",
       "      <td>A</td>\n",
       "      <td>A</td>\n",
       "      <td>C</td>\n",
       "      <td>A</td>\n",
       "      <td>A</td>\n",
       "      <td>B</td>\n",
       "    </tr>\n",
       "    <tr>\n",
       "      <th>3</th>\n",
       "      <td>190001199383</td>\n",
       "      <td>2019</td>\n",
       "      <td>1721000</td>\n",
       "      <td>Palmas</td>\n",
       "      <td>17</td>\n",
       "      <td>TO</td>\n",
       "      <td>25.0</td>\n",
       "      <td>F</td>\n",
       "      <td>1</td>\n",
       "      <td>1</td>\n",
       "      <td>...</td>\n",
       "      <td>A</td>\n",
       "      <td>A</td>\n",
       "      <td>A</td>\n",
       "      <td>C</td>\n",
       "      <td>A</td>\n",
       "      <td>B</td>\n",
       "      <td>D</td>\n",
       "      <td>A</td>\n",
       "      <td>B</td>\n",
       "      <td>B</td>\n",
       "    </tr>\n",
       "    <tr>\n",
       "      <th>4</th>\n",
       "      <td>190001237802</td>\n",
       "      <td>2019</td>\n",
       "      <td>3118601</td>\n",
       "      <td>Contagem</td>\n",
       "      <td>31</td>\n",
       "      <td>MG</td>\n",
       "      <td>22.0</td>\n",
       "      <td>F</td>\n",
       "      <td>1</td>\n",
       "      <td>1</td>\n",
       "      <td>...</td>\n",
       "      <td>B</td>\n",
       "      <td>A</td>\n",
       "      <td>A</td>\n",
       "      <td>B</td>\n",
       "      <td>A</td>\n",
       "      <td>A</td>\n",
       "      <td>C</td>\n",
       "      <td>B</td>\n",
       "      <td>B</td>\n",
       "      <td>B</td>\n",
       "    </tr>\n",
       "    <tr>\n",
       "      <th>5</th>\n",
       "      <td>190001782198</td>\n",
       "      <td>2019</td>\n",
       "      <td>5107602</td>\n",
       "      <td>Rondonópolis</td>\n",
       "      <td>51</td>\n",
       "      <td>MT</td>\n",
       "      <td>37.0</td>\n",
       "      <td>M</td>\n",
       "      <td>2</td>\n",
       "      <td>2</td>\n",
       "      <td>...</td>\n",
       "      <td>B</td>\n",
       "      <td>A</td>\n",
       "      <td>A</td>\n",
       "      <td>B</td>\n",
       "      <td>A</td>\n",
       "      <td>A</td>\n",
       "      <td>E</td>\n",
       "      <td>A</td>\n",
       "      <td>B</td>\n",
       "      <td>B</td>\n",
       "    </tr>\n",
       "    <tr>\n",
       "      <th>6</th>\n",
       "      <td>190001421548</td>\n",
       "      <td>2019</td>\n",
       "      <td>2924009</td>\n",
       "      <td>Paulo Afonso</td>\n",
       "      <td>29</td>\n",
       "      <td>BA</td>\n",
       "      <td>22.0</td>\n",
       "      <td>F</td>\n",
       "      <td>1</td>\n",
       "      <td>3</td>\n",
       "      <td>...</td>\n",
       "      <td>A</td>\n",
       "      <td>A</td>\n",
       "      <td>A</td>\n",
       "      <td>B</td>\n",
       "      <td>A</td>\n",
       "      <td>A</td>\n",
       "      <td>B</td>\n",
       "      <td>A</td>\n",
       "      <td>A</td>\n",
       "      <td>A</td>\n",
       "    </tr>\n",
       "    <tr>\n",
       "      <th>7</th>\n",
       "      <td>190001595657</td>\n",
       "      <td>2019</td>\n",
       "      <td>3550308</td>\n",
       "      <td>São Paulo</td>\n",
       "      <td>35</td>\n",
       "      <td>SP</td>\n",
       "      <td>20.0</td>\n",
       "      <td>M</td>\n",
       "      <td>1</td>\n",
       "      <td>3</td>\n",
       "      <td>...</td>\n",
       "      <td>B</td>\n",
       "      <td>A</td>\n",
       "      <td>A</td>\n",
       "      <td>B</td>\n",
       "      <td>A</td>\n",
       "      <td>A</td>\n",
       "      <td>C</td>\n",
       "      <td>A</td>\n",
       "      <td>A</td>\n",
       "      <td>B</td>\n",
       "    </tr>\n",
       "    <tr>\n",
       "      <th>8</th>\n",
       "      <td>190001592264</td>\n",
       "      <td>2019</td>\n",
       "      <td>3550308</td>\n",
       "      <td>São Paulo</td>\n",
       "      <td>35</td>\n",
       "      <td>SP</td>\n",
       "      <td>20.0</td>\n",
       "      <td>F</td>\n",
       "      <td>1</td>\n",
       "      <td>1</td>\n",
       "      <td>...</td>\n",
       "      <td>B</td>\n",
       "      <td>A</td>\n",
       "      <td>A</td>\n",
       "      <td>B</td>\n",
       "      <td>A</td>\n",
       "      <td>A</td>\n",
       "      <td>B</td>\n",
       "      <td>B</td>\n",
       "      <td>A</td>\n",
       "      <td>A</td>\n",
       "    </tr>\n",
       "    <tr>\n",
       "      <th>9</th>\n",
       "      <td>190001592266</td>\n",
       "      <td>2019</td>\n",
       "      <td>3550308</td>\n",
       "      <td>São Paulo</td>\n",
       "      <td>35</td>\n",
       "      <td>SP</td>\n",
       "      <td>17.0</td>\n",
       "      <td>M</td>\n",
       "      <td>1</td>\n",
       "      <td>1</td>\n",
       "      <td>...</td>\n",
       "      <td>B</td>\n",
       "      <td>A</td>\n",
       "      <td>A</td>\n",
       "      <td>B</td>\n",
       "      <td>A</td>\n",
       "      <td>B</td>\n",
       "      <td>C</td>\n",
       "      <td>B</td>\n",
       "      <td>B</td>\n",
       "      <td>B</td>\n",
       "    </tr>\n",
       "  </tbody>\n",
       "</table>\n",
       "<p>10 rows × 136 columns</p>\n",
       "</div>"
      ],
      "text/plain": [
       "   NU_INSCRICAO  NU_ANO  CO_MUNICIPIO_RESIDENCIA NO_MUNICIPIO_RESIDENCIA  \\\n",
       "0  190001595656    2019                  3552205                Sorocaba   \n",
       "1  190001421546    2019                  2910800        Feira de Santana   \n",
       "2  190001133210    2019                  2304400               Fortaleza   \n",
       "3  190001199383    2019                  1721000                  Palmas   \n",
       "4  190001237802    2019                  3118601                Contagem   \n",
       "5  190001782198    2019                  5107602            Rondonópolis   \n",
       "6  190001421548    2019                  2924009            Paulo Afonso   \n",
       "7  190001595657    2019                  3550308               São Paulo   \n",
       "8  190001592264    2019                  3550308               São Paulo   \n",
       "9  190001592266    2019                  3550308               São Paulo   \n",
       "\n",
       "   CO_UF_RESIDENCIA SG_UF_RESIDENCIA  NU_IDADE TP_SEXO  TP_ESTADO_CIVIL  \\\n",
       "0                35               SP      36.0       M                1   \n",
       "1                29               BA      23.0       M                1   \n",
       "2                23               CE      39.0       F                1   \n",
       "3                17               TO      25.0       F                1   \n",
       "4                31               MG      22.0       F                1   \n",
       "5                51               MT      37.0       M                2   \n",
       "6                29               BA      22.0       F                1   \n",
       "7                35               SP      20.0       M                1   \n",
       "8                35               SP      20.0       F                1   \n",
       "9                35               SP      17.0       M                1   \n",
       "\n",
       "   TP_COR_RACA  ...  Q016  Q017 Q018  Q019 Q020  Q021  Q022  Q023  Q024  Q025  \n",
       "0            3  ...     A     A    A     A    A     A     C     A     C     B  \n",
       "1            1  ...     A     A    A     B    A     A     E     A     A     B  \n",
       "2            3  ...     A     A    A     B    A     A     C     A     A     B  \n",
       "3            1  ...     A     A    A     C    A     B     D     A     B     B  \n",
       "4            1  ...     B     A    A     B    A     A     C     B     B     B  \n",
       "5            2  ...     B     A    A     B    A     A     E     A     B     B  \n",
       "6            3  ...     A     A    A     B    A     A     B     A     A     A  \n",
       "7            3  ...     B     A    A     B    A     A     C     A     A     B  \n",
       "8            1  ...     B     A    A     B    A     A     B     B     A     A  \n",
       "9            1  ...     B     A    A     B    A     B     C     B     B     B  \n",
       "\n",
       "[10 rows x 136 columns]"
      ]
     },
     "execution_count": 41,
     "metadata": {},
     "output_type": "execute_result"
    }
   ],
   "source": [
    "# Taking a look in the data set\n",
    "enem.head(10)"
   ]
  },
  {
   "cell_type": "code",
   "execution_count": 42,
   "id": "8fcdcb59-a3f7-4ade-b1f1-a5a5b86f57e5",
   "metadata": {
    "scrolled": true,
    "tags": []
   },
   "outputs": [
    {
     "name": "stdout",
     "output_type": "stream",
     "text": [
      "<class 'dask.dataframe.core.DataFrame'>\n",
      "Columns: 136 entries, NU_INSCRICAO to Q025\n",
      "dtypes: object(45), float64(21), int64(70)"
     ]
    },
    {
     "data": {
      "text/plain": [
       "{'NU_INSCRICAO': dtype('int64'),\n",
       " 'NU_ANO': dtype('int64'),\n",
       " 'CO_MUNICIPIO_RESIDENCIA': dtype('int64'),\n",
       " 'NO_MUNICIPIO_RESIDENCIA': dtype('O'),\n",
       " 'CO_UF_RESIDENCIA': dtype('int64'),\n",
       " 'SG_UF_RESIDENCIA': dtype('O'),\n",
       " 'NU_IDADE': dtype('float64'),\n",
       " 'TP_SEXO': dtype('O'),\n",
       " 'TP_ESTADO_CIVIL': dtype('int64'),\n",
       " 'TP_COR_RACA': dtype('int64'),\n",
       " 'TP_NACIONALIDADE': dtype('int64'),\n",
       " 'CO_MUNICIPIO_NASCIMENTO': dtype('float64'),\n",
       " 'NO_MUNICIPIO_NASCIMENTO': dtype('O'),\n",
       " 'CO_UF_NASCIMENTO': dtype('float64'),\n",
       " 'SG_UF_NASCIMENTO': dtype('O'),\n",
       " 'TP_ST_CONCLUSAO': dtype('int64'),\n",
       " 'TP_ANO_CONCLUIU': dtype('int64'),\n",
       " 'TP_ESCOLA': dtype('int64'),\n",
       " 'TP_ENSINO': dtype('float64'),\n",
       " 'IN_TREINEIRO': dtype('int64'),\n",
       " 'CO_ESCOLA': dtype('float64'),\n",
       " 'CO_MUNICIPIO_ESC': dtype('float64'),\n",
       " 'NO_MUNICIPIO_ESC': dtype('O'),\n",
       " 'CO_UF_ESC': dtype('float64'),\n",
       " 'SG_UF_ESC': dtype('O'),\n",
       " 'TP_DEPENDENCIA_ADM_ESC': dtype('float64'),\n",
       " 'TP_LOCALIZACAO_ESC': dtype('float64'),\n",
       " 'TP_SIT_FUNC_ESC': dtype('float64'),\n",
       " 'IN_BAIXA_VISAO': dtype('int64'),\n",
       " 'IN_CEGUEIRA': dtype('int64'),\n",
       " 'IN_SURDEZ': dtype('int64'),\n",
       " 'IN_DEFICIENCIA_AUDITIVA': dtype('int64'),\n",
       " 'IN_SURDO_CEGUEIRA': dtype('int64'),\n",
       " 'IN_DEFICIENCIA_FISICA': dtype('int64'),\n",
       " 'IN_DEFICIENCIA_MENTAL': dtype('int64'),\n",
       " 'IN_DEFICIT_ATENCAO': dtype('int64'),\n",
       " 'IN_DISLEXIA': dtype('int64'),\n",
       " 'IN_DISCALCULIA': dtype('int64'),\n",
       " 'IN_AUTISMO': dtype('int64'),\n",
       " 'IN_VISAO_MONOCULAR': dtype('int64'),\n",
       " 'IN_OUTRA_DEF': dtype('int64'),\n",
       " 'IN_GESTANTE': dtype('int64'),\n",
       " 'IN_LACTANTE': dtype('int64'),\n",
       " 'IN_IDOSO': dtype('int64'),\n",
       " 'IN_ESTUDA_CLASSE_HOSPITALAR': dtype('int64'),\n",
       " 'IN_SEM_RECURSO': dtype('int64'),\n",
       " 'IN_BRAILLE': dtype('int64'),\n",
       " 'IN_AMPLIADA_24': dtype('int64'),\n",
       " 'IN_AMPLIADA_18': dtype('int64'),\n",
       " 'IN_LEDOR': dtype('int64'),\n",
       " 'IN_ACESSO': dtype('int64'),\n",
       " 'IN_TRANSCRICAO': dtype('int64'),\n",
       " 'IN_LIBRAS': dtype('int64'),\n",
       " 'IN_TEMPO_ADICIONAL': dtype('int64'),\n",
       " 'IN_LEITURA_LABIAL': dtype('int64'),\n",
       " 'IN_MESA_CADEIRA_RODAS': dtype('int64'),\n",
       " 'IN_MESA_CADEIRA_SEPARADA': dtype('int64'),\n",
       " 'IN_APOIO_PERNA': dtype('int64'),\n",
       " 'IN_GUIA_INTERPRETE': dtype('int64'),\n",
       " 'IN_COMPUTADOR': dtype('int64'),\n",
       " 'IN_CADEIRA_ESPECIAL': dtype('int64'),\n",
       " 'IN_CADEIRA_CANHOTO': dtype('int64'),\n",
       " 'IN_CADEIRA_ACOLCHOADA': dtype('int64'),\n",
       " 'IN_PROVA_DEITADO': dtype('int64'),\n",
       " 'IN_MOBILIARIO_OBESO': dtype('int64'),\n",
       " 'IN_LAMINA_OVERLAY': dtype('int64'),\n",
       " 'IN_PROTETOR_AURICULAR': dtype('int64'),\n",
       " 'IN_MEDIDOR_GLICOSE': dtype('int64'),\n",
       " 'IN_MAQUINA_BRAILE': dtype('int64'),\n",
       " 'IN_SOROBAN': dtype('int64'),\n",
       " 'IN_MARCA_PASSO': dtype('int64'),\n",
       " 'IN_SONDA': dtype('int64'),\n",
       " 'IN_MEDICAMENTOS': dtype('int64'),\n",
       " 'IN_SALA_INDIVIDUAL': dtype('int64'),\n",
       " 'IN_SALA_ESPECIAL': dtype('int64'),\n",
       " 'IN_SALA_ACOMPANHANTE': dtype('int64'),\n",
       " 'IN_MOBILIARIO_ESPECIFICO': dtype('int64'),\n",
       " 'IN_MATERIAL_ESPECIFICO': dtype('int64'),\n",
       " 'IN_NOME_SOCIAL': dtype('int64'),\n",
       " 'CO_MUNICIPIO_PROVA': dtype('int64'),\n",
       " 'NO_MUNICIPIO_PROVA': dtype('O'),\n",
       " 'CO_UF_PROVA': dtype('int64'),\n",
       " 'SG_UF_PROVA': dtype('O'),\n",
       " 'TP_PRESENCA_CN': dtype('int64'),\n",
       " 'TP_PRESENCA_CH': dtype('int64'),\n",
       " 'TP_PRESENCA_LC': dtype('int64'),\n",
       " 'TP_PRESENCA_MT': dtype('int64'),\n",
       " 'CO_PROVA_CN': dtype('float64'),\n",
       " 'CO_PROVA_CH': dtype('float64'),\n",
       " 'CO_PROVA_LC': dtype('float64'),\n",
       " 'CO_PROVA_MT': dtype('float64'),\n",
       " 'NU_NOTA_CN': dtype('O'),\n",
       " 'NU_NOTA_CH': dtype('O'),\n",
       " 'NU_NOTA_LC': dtype('O'),\n",
       " 'NU_NOTA_MT': dtype('O'),\n",
       " 'TX_RESPOSTAS_CN': dtype('O'),\n",
       " 'TX_RESPOSTAS_CH': dtype('O'),\n",
       " 'TX_RESPOSTAS_LC': dtype('O'),\n",
       " 'TX_RESPOSTAS_MT': dtype('O'),\n",
       " 'TP_LINGUA': dtype('int64'),\n",
       " 'TX_GABARITO_CN': dtype('O'),\n",
       " 'TX_GABARITO_CH': dtype('O'),\n",
       " 'TX_GABARITO_LC': dtype('O'),\n",
       " 'TX_GABARITO_MT': dtype('O'),\n",
       " 'TP_STATUS_REDACAO': dtype('float64'),\n",
       " 'NU_NOTA_COMP1': dtype('float64'),\n",
       " 'NU_NOTA_COMP2': dtype('float64'),\n",
       " 'NU_NOTA_COMP3': dtype('float64'),\n",
       " 'NU_NOTA_COMP4': dtype('float64'),\n",
       " 'NU_NOTA_COMP5': dtype('float64'),\n",
       " 'NU_NOTA_REDACAO': dtype('float64'),\n",
       " 'Q001': dtype('O'),\n",
       " 'Q002': dtype('O'),\n",
       " 'Q003': dtype('O'),\n",
       " 'Q004': dtype('O'),\n",
       " 'Q005': dtype('int64'),\n",
       " 'Q006': dtype('O'),\n",
       " 'Q007': dtype('O'),\n",
       " 'Q008': dtype('O'),\n",
       " 'Q009': dtype('O'),\n",
       " 'Q010': dtype('O'),\n",
       " 'Q011': dtype('O'),\n",
       " 'Q012': dtype('O'),\n",
       " 'Q013': dtype('O'),\n",
       " 'Q014': dtype('O'),\n",
       " 'Q015': dtype('O'),\n",
       " 'Q016': dtype('O'),\n",
       " 'Q017': dtype('O'),\n",
       " 'Q018': dtype('O'),\n",
       " 'Q019': dtype('O'),\n",
       " 'Q020': dtype('O'),\n",
       " 'Q021': dtype('O'),\n",
       " 'Q022': dtype('O'),\n",
       " 'Q023': dtype('O'),\n",
       " 'Q024': dtype('O'),\n",
       " 'Q025': dtype('O')}"
      ]
     },
     "execution_count": 42,
     "metadata": {},
     "output_type": "execute_result"
    }
   ],
   "source": [
    "# Some additional information\n",
    "enem.info()\n",
    "dict(enem.dtypes)"
   ]
  },
  {
   "cell_type": "code",
   "execution_count": 43,
   "id": "1b7d1ad6-248f-4fc6-839c-369db9e858fe",
   "metadata": {},
   "outputs": [
    {
     "data": {
      "text/html": [
       "<div>\n",
       "<style scoped>\n",
       "    .dataframe tbody tr th:only-of-type {\n",
       "        vertical-align: middle;\n",
       "    }\n",
       "\n",
       "    .dataframe tbody tr th {\n",
       "        vertical-align: top;\n",
       "    }\n",
       "\n",
       "    .dataframe thead th {\n",
       "        text-align: right;\n",
       "    }\n",
       "</style>\n",
       "<table border=\"1\" class=\"dataframe\">\n",
       "  <thead>\n",
       "    <tr style=\"text-align: right;\">\n",
       "      <th></th>\n",
       "      <th>NU_INSCRICAO</th>\n",
       "      <th>NU_ANO</th>\n",
       "      <th>CO_MUNICIPIO_RESIDENCIA</th>\n",
       "      <th>NO_MUNICIPIO_RESIDENCIA</th>\n",
       "      <th>CO_UF_RESIDENCIA</th>\n",
       "      <th>SG_UF_RESIDENCIA</th>\n",
       "      <th>NU_IDADE</th>\n",
       "      <th>TP_SEXO</th>\n",
       "      <th>TP_ESTADO_CIVIL</th>\n",
       "      <th>TP_COR_RACA</th>\n",
       "      <th>...</th>\n",
       "      <th>Q016</th>\n",
       "      <th>Q017</th>\n",
       "      <th>Q018</th>\n",
       "      <th>Q019</th>\n",
       "      <th>Q020</th>\n",
       "      <th>Q021</th>\n",
       "      <th>Q022</th>\n",
       "      <th>Q023</th>\n",
       "      <th>Q024</th>\n",
       "      <th>Q025</th>\n",
       "    </tr>\n",
       "  </thead>\n",
       "  <tbody>\n",
       "    <tr>\n",
       "      <th>4</th>\n",
       "      <td>190001237802</td>\n",
       "      <td>2019</td>\n",
       "      <td>3118601</td>\n",
       "      <td>Contagem</td>\n",
       "      <td>31</td>\n",
       "      <td>MG</td>\n",
       "      <td>22.0</td>\n",
       "      <td>F</td>\n",
       "      <td>1</td>\n",
       "      <td>1</td>\n",
       "      <td>...</td>\n",
       "      <td>B</td>\n",
       "      <td>A</td>\n",
       "      <td>A</td>\n",
       "      <td>B</td>\n",
       "      <td>A</td>\n",
       "      <td>A</td>\n",
       "      <td>C</td>\n",
       "      <td>B</td>\n",
       "      <td>B</td>\n",
       "      <td>B</td>\n",
       "    </tr>\n",
       "    <tr>\n",
       "      <th>14</th>\n",
       "      <td>190001237803</td>\n",
       "      <td>2019</td>\n",
       "      <td>3170206</td>\n",
       "      <td>Uberlândia</td>\n",
       "      <td>31</td>\n",
       "      <td>MG</td>\n",
       "      <td>30.0</td>\n",
       "      <td>F</td>\n",
       "      <td>1</td>\n",
       "      <td>2</td>\n",
       "      <td>...</td>\n",
       "      <td>A</td>\n",
       "      <td>A</td>\n",
       "      <td>A</td>\n",
       "      <td>B</td>\n",
       "      <td>A</td>\n",
       "      <td>A</td>\n",
       "      <td>B</td>\n",
       "      <td>A</td>\n",
       "      <td>A</td>\n",
       "      <td>A</td>\n",
       "    </tr>\n",
       "    <tr>\n",
       "      <th>25</th>\n",
       "      <td>190001237804</td>\n",
       "      <td>2019</td>\n",
       "      <td>3124104</td>\n",
       "      <td>Esmeraldas</td>\n",
       "      <td>31</td>\n",
       "      <td>MG</td>\n",
       "      <td>27.0</td>\n",
       "      <td>M</td>\n",
       "      <td>1</td>\n",
       "      <td>3</td>\n",
       "      <td>...</td>\n",
       "      <td>A</td>\n",
       "      <td>A</td>\n",
       "      <td>A</td>\n",
       "      <td>B</td>\n",
       "      <td>A</td>\n",
       "      <td>B</td>\n",
       "      <td>C</td>\n",
       "      <td>A</td>\n",
       "      <td>A</td>\n",
       "      <td>A</td>\n",
       "    </tr>\n",
       "    <tr>\n",
       "      <th>32</th>\n",
       "      <td>190001237805</td>\n",
       "      <td>2019</td>\n",
       "      <td>3118304</td>\n",
       "      <td>Conselheiro Lafaiete</td>\n",
       "      <td>31</td>\n",
       "      <td>MG</td>\n",
       "      <td>22.0</td>\n",
       "      <td>F</td>\n",
       "      <td>1</td>\n",
       "      <td>1</td>\n",
       "      <td>...</td>\n",
       "      <td>B</td>\n",
       "      <td>A</td>\n",
       "      <td>B</td>\n",
       "      <td>C</td>\n",
       "      <td>B</td>\n",
       "      <td>A</td>\n",
       "      <td>E</td>\n",
       "      <td>A</td>\n",
       "      <td>B</td>\n",
       "      <td>B</td>\n",
       "    </tr>\n",
       "    <tr>\n",
       "      <th>38</th>\n",
       "      <td>190001237806</td>\n",
       "      <td>2019</td>\n",
       "      <td>3162922</td>\n",
       "      <td>São Joaquim de Bicas</td>\n",
       "      <td>31</td>\n",
       "      <td>MG</td>\n",
       "      <td>23.0</td>\n",
       "      <td>F</td>\n",
       "      <td>1</td>\n",
       "      <td>4</td>\n",
       "      <td>...</td>\n",
       "      <td>B</td>\n",
       "      <td>A</td>\n",
       "      <td>A</td>\n",
       "      <td>B</td>\n",
       "      <td>B</td>\n",
       "      <td>A</td>\n",
       "      <td>C</td>\n",
       "      <td>A</td>\n",
       "      <td>B</td>\n",
       "      <td>B</td>\n",
       "    </tr>\n",
       "  </tbody>\n",
       "</table>\n",
       "<p>5 rows × 136 columns</p>\n",
       "</div>"
      ],
      "text/plain": [
       "    NU_INSCRICAO  NU_ANO  CO_MUNICIPIO_RESIDENCIA NO_MUNICIPIO_RESIDENCIA  \\\n",
       "4   190001237802    2019                  3118601                Contagem   \n",
       "14  190001237803    2019                  3170206              Uberlândia   \n",
       "25  190001237804    2019                  3124104              Esmeraldas   \n",
       "32  190001237805    2019                  3118304    Conselheiro Lafaiete   \n",
       "38  190001237806    2019                  3162922    São Joaquim de Bicas   \n",
       "\n",
       "    CO_UF_RESIDENCIA SG_UF_RESIDENCIA  NU_IDADE TP_SEXO  TP_ESTADO_CIVIL  \\\n",
       "4                 31               MG      22.0       F                1   \n",
       "14                31               MG      30.0       F                1   \n",
       "25                31               MG      27.0       M                1   \n",
       "32                31               MG      22.0       F                1   \n",
       "38                31               MG      23.0       F                1   \n",
       "\n",
       "    TP_COR_RACA  ...  Q016  Q017 Q018  Q019 Q020  Q021  Q022  Q023  Q024  Q025  \n",
       "4             1  ...     B     A    A     B    A     A     C     B     B     B  \n",
       "14            2  ...     A     A    A     B    A     A     B     A     A     A  \n",
       "25            3  ...     A     A    A     B    A     B     C     A     A     A  \n",
       "32            1  ...     B     A    B     C    B     A     E     A     B     B  \n",
       "38            4  ...     B     A    A     B    B     A     C     A     B     B  \n",
       "\n",
       "[5 rows x 136 columns]"
      ]
     },
     "execution_count": 43,
     "metadata": {},
     "output_type": "execute_result"
    }
   ],
   "source": [
    "# Filtering MG\n",
    "mg = enem.loc[enem.SG_UF_RESIDENCIA == \"MG\"]\n",
    "mg.head(5)"
   ]
  },
  {
   "cell_type": "code",
   "execution_count": 45,
   "id": "61e23eda-1014-418e-b5fa-3fba1a2b7bfc",
   "metadata": {},
   "outputs": [
    {
     "name": "stdout",
     "output_type": "stream",
     "text": [
      "Wall time: 7min 53s\n"
     ]
    }
   ],
   "source": [
    "%%time\n",
    "# Writing data to file\n",
    "mg.to_parquet('./enem2019/enem2019mg.parquet', \n",
    "              engine='pyarrow')"
   ]
  },
  {
   "attachments": {
    "fa82d10a-77d9-4391-aa96-7e39dfb59798.png": {
     "image/png": "[encoded data removed]"
    }
   },
   "cell_type": "markdown",
   "id": "d1692e63-f146-4c5a-923f-0392dd07d17f",
   "metadata": {},
   "source": [
    "![image.png](attachment:fa82d10a-77d9-4391-aa96-7e39dfb59798.png)"
   ]
  },
  {
   "cell_type": "markdown",
   "id": "70a673ae-3327-4afb-b72d-b97bdfe79240",
   "metadata": {},
   "source": [
    "### After reading and saving just what is necessary, we can read the files.\n",
    "This approach improves the performance."
   ]
  },
  {
   "cell_type": "code",
   "execution_count": null,
   "id": "8cdc6f3c-7332-4992-8702-d3565f10ac66",
   "metadata": {},
   "outputs": [],
   "source": [
    "# Reading MG data stored previously\n",
    "mg = dd.read_parquet('./enem2019/enem2019mg.parquet')"
   ]
  },
  {
   "cell_type": "markdown",
   "id": "731e87df-96af-424e-b156-e2a70e52a773",
   "metadata": {},
   "source": [
    "1. Qual é a média da nota em matemática de todos os alunos mineiros?"
   ]
  },
  {
   "cell_type": "code",
   "execution_count": 56,
   "id": "8f8a57ef-7ed7-4752-84e1-0f20af8fdfc2",
   "metadata": {},
   "outputs": [
    {
     "data": {
      "text/plain": [
       "546.7962076512166"
      ]
     },
     "execution_count": 56,
     "metadata": {},
     "output_type": "execute_result"
    }
   ],
   "source": [
    "mg.NU_NOTA_MT.astype(float).mean().compute()"
   ]
  },
  {
   "cell_type": "markdown",
   "id": "49200aab-e88f-4999-a6f0-86daf401c8a9",
   "metadata": {},
   "source": [
    "2. Qual é a média da nota em Linguagens e Códigos de todos os alunos mineiros?"
   ]
  },
  {
   "cell_type": "code",
   "execution_count": 57,
   "id": "87c22796-6e28-4e40-a414-2ae21030036f",
   "metadata": {},
   "outputs": [
    {
     "data": {
      "text/plain": [
       "531.2155500475449"
      ]
     },
     "execution_count": 57,
     "metadata": {},
     "output_type": "execute_result"
    }
   ],
   "source": [
    "mg['NU_NOTA_LC'].astype(float).mean().compute()"
   ]
  },
  {
   "cell_type": "markdown",
   "id": "18726d47-bd96-4353-8264-2ee356a14aa1",
   "metadata": {},
   "source": [
    "3. Qual é a média da nota em Ciências Humanas dos alunos do sexo FEMININO mineiros?"
   ]
  },
  {
   "cell_type": "code",
   "execution_count": 8,
   "id": "7e5b6612-cf9c-4071-945b-cf1402fab254",
   "metadata": {},
   "outputs": [
    {
     "data": {
      "text/plain": [
       "515.1270983575309"
      ]
     },
     "execution_count": 8,
     "metadata": {},
     "output_type": "execute_result"
    }
   ],
   "source": [
    "mg.loc[mg.TP_SEXO == 'F']['NU_NOTA_CH'].astype(float).mean().compute()"
   ]
  },
  {
   "cell_type": "markdown",
   "id": "b7723418-a6b1-4251-bf3d-adf8320e53c6",
   "metadata": {},
   "source": [
    "4. Qual é a média da nota em Ciências Humanas dos alunos do sexo MASCULINO?"
   ]
  },
  {
   "cell_type": "code",
   "execution_count": 10,
   "id": "379f12ec-5780-4d06-becc-78d360fb18f6",
   "metadata": {},
   "outputs": [
    {
     "data": {
      "text/plain": [
       "529.6982704731432"
      ]
     },
     "execution_count": 10,
     "metadata": {},
     "output_type": "execute_result"
    }
   ],
   "source": [
    "mg.loc[mg.TP_SEXO == 'M']['NU_NOTA_CH'].astype(float).mean().compute()"
   ]
  },
  {
   "cell_type": "markdown",
   "id": "4f65babe-73ea-4eda-8269-0124d8cbaef4",
   "metadata": {},
   "source": [
    "5. Qual é a média da nota em Matemática dos alunos do sexo FEMININO que moram na cidade de Montes Claros?"
   ]
  },
  {
   "cell_type": "code",
   "execution_count": 19,
   "id": "d75aa14c-9d03-4096-a2a7-03feb4ac8ecc",
   "metadata": {},
   "outputs": [
    {
     "data": {
      "text/plain": [
       "525.4776724249903"
      ]
     },
     "execution_count": 19,
     "metadata": {},
     "output_type": "execute_result"
    }
   ],
   "source": [
    "mg.loc[\n",
    "    (mg.TP_SEXO == 'F') &\n",
    "    (mg.NO_MUNICIPIO_RESIDENCIA == 'Montes Claros') \n",
    "].NU_NOTA_MT.astype(float).mean().compute()"
   ]
  },
  {
   "cell_type": "markdown",
   "id": "13e01911-9287-4cda-8a6a-d6262a1dd4f5",
   "metadata": {},
   "source": [
    "6. Qual é a média da nota em Matemática dos alunos do município de Sabará que possuem TV por assinatura na residência?"
   ]
  },
  {
   "cell_type": "code",
   "execution_count": 20,
   "id": "d42105b2-7840-4c6c-99c7-8485f7b60e74",
   "metadata": {},
   "outputs": [
    {
     "data": {
      "text/plain": [
       "543.2927556818182"
      ]
     },
     "execution_count": 20,
     "metadata": {},
     "output_type": "execute_result"
    }
   ],
   "source": [
    "mg.loc[\n",
    "    (mg.NO_MUNICIPIO_RESIDENCIA == 'Sabará') &\n",
    "    (mg.Q021 == 'B')\n",
    "].NU_NOTA_MT.astype(float).mean().compute()"
   ]
  },
  {
   "cell_type": "markdown",
   "id": "fa1e1df9-44e4-41ab-ac1d-2a6cc25e5077",
   "metadata": {},
   "source": [
    "7. Qual é a média da nota em Ciências Humanas dos alunos mineiros que possuem dois fornos micro-ondas em casa?"
   ]
  },
  {
   "cell_type": "code",
   "execution_count": 21,
   "id": "d3be6fbb-b476-4a40-be0f-fe223d2d5cec",
   "metadata": {},
   "outputs": [
    {
     "data": {
      "text/plain": [
       "557.2765986394558"
      ]
     },
     "execution_count": 21,
     "metadata": {},
     "output_type": "execute_result"
    }
   ],
   "source": [
    "mg.loc[mg.Q016 == 'C'].NU_NOTA_CH.astype(float).mean().compute()"
   ]
  },
  {
   "cell_type": "markdown",
   "id": "ff7d223a-4ed2-4a3d-b0c6-4608f1eeac3a",
   "metadata": {},
   "source": [
    "8. Qual é a nota média em Matemática dos alunos mineiros cuja mãe completou a pós-graduação?"
   ]
  },
  {
   "cell_type": "code",
   "execution_count": 22,
   "id": "f884eee9-f5e8-4a16-b311-ed307f5b3643",
   "metadata": {},
   "outputs": [
    {
     "data": {
      "text/plain": [
       "620.007062070987"
      ]
     },
     "execution_count": 22,
     "metadata": {},
     "output_type": "execute_result"
    }
   ],
   "source": [
    "mg.loc[mg.Q002 == 'G'].NU_NOTA_MT.astype(float).mean().compute()"
   ]
  },
  {
   "cell_type": "markdown",
   "id": "dc4166e7-9955-4493-9bff-aab922d5264e",
   "metadata": {},
   "source": [
    "9. Qual é a nota média em Matemática dos alunos de Belo Horizonte e de Conselheiro Lafaiete?"
   ]
  },
  {
   "cell_type": "code",
   "execution_count": 35,
   "id": "58562ea6-4d28-4c7a-b421-58da78d766c5",
   "metadata": {},
   "outputs": [
    {
     "data": {
      "text/plain": [
       "578.6497548241435"
      ]
     },
     "execution_count": 35,
     "metadata": {},
     "output_type": "execute_result"
    }
   ],
   "source": [
    "mg.loc[\n",
    "    (mg.NO_MUNICIPIO_RESIDENCIA == ('Belo Horizonte' or 'Conselheiro Lafaiete')) \n",
    "].NU_NOTA_MT.astype(float).mean().compute()"
   ]
  },
  {
   "cell_type": "markdown",
   "id": "93e7e363-795e-4ccf-a66e-f5f707664b06",
   "metadata": {},
   "source": [
    "10. Qual é a nota média em Ciências Humanas dos alunos mineiros que moram sozinhos?"
   ]
  },
  {
   "cell_type": "code",
   "execution_count": 36,
   "id": "d4b44a05-5b3a-488f-b6b8-1966799a8cd3",
   "metadata": {},
   "outputs": [
    {
     "data": {
      "text/plain": [
       "534.4573388609219"
      ]
     },
     "execution_count": 36,
     "metadata": {},
     "output_type": "execute_result"
    }
   ],
   "source": [
    "mg.loc[mg.Q005 == 1].NU_NOTA_CH.astype(float).mean().compute()"
   ]
  },
  {
   "cell_type": "markdown",
   "id": "67c8ae6d-1dcb-41a2-af22-915217bae65a",
   "metadata": {},
   "source": [
    "11. Qual é a nota média em Ciências Humanas dos alunos mineiros cujo pai completou pós-graduação e possuem renda familiar entre 8.982,01 e 9.980,00 reais?"
   ]
  },
  {
   "cell_type": "code",
   "execution_count": 38,
   "id": "300c7639-5306-4f5e-9e18-4659fbdeb461",
   "metadata": {},
   "outputs": [
    {
     "data": {
      "text/plain": [
       "586.7231663685152"
      ]
     },
     "execution_count": 38,
     "metadata": {},
     "output_type": "execute_result"
    }
   ],
   "source": [
    "mg.loc[\n",
    "    (mg.Q006 == 'M') &\n",
    "    (mg.Q001 == 'G')\n",
    "].NU_NOTA_CH.astype(float).mean().compute()"
   ]
  },
  {
   "cell_type": "markdown",
   "id": "f8542ce1-3ded-4cb0-a117-e1c6f86d4cfe",
   "metadata": {},
   "source": [
    "12. Qual é a nota média em Matemática dos alunos do sexo Feminino que moram em Lavras e escolheram “Espanhol” como língua estrangeira?"
   ]
  },
  {
   "cell_type": "code",
   "execution_count": 41,
   "id": "d5a2da03-104d-452f-8dfe-45429a89c4e2",
   "metadata": {},
   "outputs": [
    {
     "data": {
      "text/plain": [
       "510.80950782997763"
      ]
     },
     "execution_count": 41,
     "metadata": {},
     "output_type": "execute_result"
    }
   ],
   "source": [
    "mg.loc[\n",
    "    (mg.TP_SEXO == 'F') &\n",
    "    (mg.NO_MUNICIPIO_RESIDENCIA == 'Lavras') &\n",
    "    (mg.TP_LINGUA == 1)\n",
    "].NU_NOTA_MT.astype(float).mean().compute()"
   ]
  },
  {
   "cell_type": "markdown",
   "id": "f3994dc0-9c80-4e75-b233-b8781ef897b4",
   "metadata": {},
   "source": [
    "13. Qual é a nota média em Matemática dos alunos do sexo Masculino que moram em Ouro Preto?"
   ]
  },
  {
   "cell_type": "code",
   "execution_count": 42,
   "id": "e650f340-a786-44e1-be5f-dfcf4591d879",
   "metadata": {},
   "outputs": [
    {
     "data": {
      "text/plain": [
       "555.0832520325202"
      ]
     },
     "execution_count": 42,
     "metadata": {},
     "output_type": "execute_result"
    }
   ],
   "source": [
    "mg.loc[\n",
    "    (mg.TP_SEXO == 'M') &\n",
    "    (mg.NO_MUNICIPIO_RESIDENCIA == 'Ouro Preto')\n",
    "].NU_NOTA_MT.astype(float).mean().compute()"
   ]
  },
  {
   "cell_type": "markdown",
   "id": "cad60370-b1cc-4f5d-a79e-7219347a5d75",
   "metadata": {},
   "source": [
    "14. Qual é a nota média em Ciências Humanas dos alunos surdos?"
   ]
  },
  {
   "cell_type": "code",
   "execution_count": 46,
   "id": "41aa0818-05f2-4b40-b955-b0afa6573831",
   "metadata": {},
   "outputs": [
    {
     "data": {
      "text/plain": [
       "435.387962962963"
      ]
     },
     "execution_count": 46,
     "metadata": {},
     "output_type": "execute_result"
    }
   ],
   "source": [
    "mg.loc[\n",
    "    (mg.IN_SURDEZ == 1) \n",
    "#    (mg.IN_SURDO_CEGUEIRA == 1) \n",
    "].NU_NOTA_CH.astype(float).mean().compute()"
   ]
  },
  {
   "cell_type": "markdown",
   "id": "a10ab79f-eb6d-4ec0-a5bf-2a2cab3b5634",
   "metadata": {},
   "source": [
    "15. Qual é a nota média em Matemática dos alunos do sexo FEMININO, que moram em Belo Horizonte, Sabará, Nova Lima e Betim e possuem dislexia?"
   ]
  },
  {
   "cell_type": "code",
   "execution_count": 49,
   "id": "a451324f-d601-4d3d-b8a0-78fb3d694b3c",
   "metadata": {},
   "outputs": [
    {
     "data": {
      "text/plain": [
       "577.4413793103448"
      ]
     },
     "execution_count": 49,
     "metadata": {},
     "output_type": "execute_result"
    }
   ],
   "source": [
    "mg.loc[\n",
    "    (mg.TP_SEXO == 'F') &\n",
    "    (mg.NO_MUNICIPIO_RESIDENCIA == ('Belo Horizonte' or 'Sabará' or 'Nova Lima' or 'Betim')) &\n",
    "    (mg.IN_DISLEXIA == 1)\n",
    "].NU_NOTA_MT.astype(float).mean().compute()"
   ]
  }
 ],
 "metadata": {
  "kernelspec": {
   "display_name": "Python 3 (ipykernel)",
   "language": "python",
   "name": "python3"
  },
  "language_info": {
   "codemirror_mode": {
    "name": "ipython",
    "version": 3
   },
   "file_extension": ".py",
   "mimetype": "text/x-python",
   "name": "python",
   "nbconvert_exporter": "python",
   "pygments_lexer": "ipython3",
   "version": "3.9.5"
  }
 },
 "nbformat": 4,
 "nbformat_minor": 5
}
